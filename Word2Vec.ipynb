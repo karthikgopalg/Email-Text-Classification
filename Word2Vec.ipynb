{
 "cells": [
  {
   "cell_type": "markdown",
   "id": "e1aff95c",
   "metadata": {},
   "source": [
    "# Word2Vec"
   ]
  },
  {
   "cell_type": "code",
   "execution_count": 2,
   "id": "e5bac53f",
   "metadata": {},
   "outputs": [],
   "source": [
    "import re\n",
    "import nltk\n",
    "from nltk.corpus import stopwords\n",
    "from gensim.models import Word2Vec"
   ]
  },
  {
   "cell_type": "code",
   "execution_count": 14,
   "id": "79206241",
   "metadata": {},
   "outputs": [],
   "source": [
    "paragraph = \"\"\"theriyala eppo ellundten hu but clg ki seckan Ponen be and ava lake ahh landla invali joy alh ealho mosi Poite and dauind call Panni room veh Sowna but Poi Patha Slept edluke then eva Koopidanum.. oru maari thinking and Sudhan ode Poi things b vargitu vandhan alt..... Sapten innaki alot and avaluku Kosachi bakery. fruit Cookies Vangi thandelen of Baska Senji saptom all BV the ku Kevin Kadupa ethilan....... exhibition with RAM veetila Kooptangalam... Pawten ticket hu Sara I was too loved and upset ava kel Book Peal the Permen ava advice\n",
    "\n",
    "apparam haircut Sudlan dishes Parotta Chicken the banna... and avalodu Perita irundhen halaki PSG College Porom for event.... d we planned his and sudden ahh awa Gruku Poren hu Sows for\n",
    "\n",
    "ни ille halladhuker avalo Sonno wait to en follow........ I will get you what you want\n",
    "\n",
    "I will study to improve myself & earn of. I will. try for it ♡.....\"\"\""
   ]
  },
  {
   "cell_type": "code",
   "execution_count": 15,
   "id": "a1770f23",
   "metadata": {},
   "outputs": [],
   "source": [
    "# Preprocessing the data\n",
    "text = re.sub(r'\\[[0-9]*\\]',' ',paragraph)\n",
    "text = re.sub(r'\\s+',' ',text)\n",
    "text = text.lower()\n",
    "text = re.sub(r'\\d',' ',text)\n",
    "text = re.sub(r'\\s+',' ',text)"
   ]
  },
  {
   "cell_type": "code",
   "execution_count": 24,
   "id": "6bad29c0",
   "metadata": {},
   "outputs": [
    {
     "name": "stdout",
     "output_type": "stream",
     "text": [
      "[['theriyala', 'eppo', 'ellundten', 'hu', 'clg', 'ki', 'seckan', 'ponen', 'ava', 'lake', 'ahh', 'landla', 'invali', 'joy', 'alh', 'ealho', 'mosi', 'poite', 'dauind', 'call', 'panni', 'room', 'veh', 'sowna', 'poi', 'patha', 'slept', 'edluke', 'eva', 'koopidanum', '..', 'oru', 'maari', 'thinking', 'sudhan', 'ode', 'poi', 'things', 'b', 'vargitu', 'vandhan', 'alt', '.....', 'sapten', 'innaki', 'alot', 'avaluku', 'kosachi', 'bakery', '.'], ['fruit', 'cookies', 'vangi', 'thandelen', 'baska', 'senji', 'saptom', 'bv', 'ku', 'kevin', 'kadupa', 'ethilan', '.......', 'exhibition', 'ram', 'veetila', 'kooptangalam', '...', 'pawten', 'ticket', 'hu', 'sara', 'loved', 'upset', 'ava', 'kel', 'book', 'peal', 'permen', 'ava', 'advice', 'apparam', 'haircut', 'sudlan', 'dishes', 'parotta', 'chicken', 'banna', '...', 'avalodu', 'perita', 'irundhen', 'halaki', 'psg', 'college', 'porom', 'event', '....', 'planned', 'sudden', 'ahh', 'awa', 'gruku', 'poren', 'hu', 'sows', 'ни', 'ille', 'halladhuker', 'avalo', 'sonno', 'wait', 'en', 'follow', '........', 'get', 'want', 'study', 'improve', '&', 'earn', '.'], ['.'], ['try', '♡', '.....']]\n"
     ]
    }
   ],
   "source": [
    "# Preparing the dataset\n",
    "sentences = nltk.sent_tokenize(text)\n",
    "\n",
    "sentences = [nltk.word_tokenize(sentence) for sentence in sentences]\n",
    "\n",
    "for i in range(len(sentences)):\n",
    "    sentences[i] = [word for word in sentences[i] if word not in stopwords.words('english')]\n",
    "    \n",
    "    \n",
    "print(sentences)\n",
    "    "
   ]
  },
  {
   "cell_type": "code",
   "execution_count": 17,
   "id": "76f191fe",
   "metadata": {},
   "outputs": [],
   "source": [
    "# Training the Word2Vec model\n",
    "model = Word2Vec(sentences, min_count=1)\n",
    "\n",
    "\n",
    "#words = model.wv.vocab\n",
    "\n"
   ]
  },
  {
   "cell_type": "code",
   "execution_count": 21,
   "id": "f8d6523e",
   "metadata": {},
   "outputs": [],
   "source": [
    "# Finding Word Vectors\n",
    "vector = model.wv['sudhan']\n",
    "\n",
    "# Most similar words\n",
    "similar = model.wv.most_similar('sudhan')"
   ]
  },
  {
   "cell_type": "code",
   "execution_count": 22,
   "id": "fad97354",
   "metadata": {},
   "outputs": [
    {
     "data": {
      "text/plain": [
       "array([ 7.0897993e-03, -1.5736152e-03,  7.9506319e-03, -9.4900019e-03,\n",
       "       -8.0324421e-03, -6.6450029e-03, -4.0033995e-03,  4.9907491e-03,\n",
       "       -3.8145869e-03, -8.3225658e-03,  8.4117278e-03, -3.7503184e-03,\n",
       "        8.6090239e-03, -4.8944261e-03,  3.9184331e-03,  4.9223052e-03,\n",
       "        2.3919586e-03, -2.8189642e-03,  2.8495251e-03, -8.2566123e-03,\n",
       "       -2.7646266e-03, -2.5886521e-03,  7.2537931e-03, -3.4691687e-03,\n",
       "       -6.5974570e-03,  4.3409052e-03, -4.8008512e-04, -3.5951443e-03,\n",
       "        6.8802284e-03,  3.8694825e-03, -3.9012821e-03,  7.7801797e-04,\n",
       "        9.1515025e-03,  7.7518760e-03,  6.3581164e-03,  4.6664700e-03,\n",
       "        2.3802393e-03, -1.8443464e-03, -6.3756974e-03, -3.0730071e-04,\n",
       "       -1.5659428e-03, -5.7049945e-04, -6.2653073e-03,  7.4357977e-03,\n",
       "       -6.5904651e-03, -7.2400812e-03, -2.7544878e-03, -1.5167837e-03,\n",
       "       -7.6401010e-03,  6.9941313e-04, -5.3248946e-03, -1.2775639e-03,\n",
       "       -7.3670303e-03,  1.9565267e-03,  3.2774396e-03, -2.4453264e-05,\n",
       "       -5.4529188e-03, -1.7260598e-03,  7.0871394e-03,  3.7351525e-03,\n",
       "       -8.8781044e-03, -3.4153231e-03,  2.3565572e-03,  2.1391390e-03,\n",
       "       -9.4678150e-03,  4.5712269e-03, -8.6589493e-03, -7.3859612e-03,\n",
       "        3.4805741e-03, -3.4678872e-03,  3.5616735e-03,  8.8943271e-03,\n",
       "       -3.5698286e-03,  9.3232431e-03,  1.7137564e-03,  9.8501267e-03,\n",
       "        5.7056379e-03, -9.1576418e-03, -3.3343991e-03,  6.5331953e-03,\n",
       "        5.6067822e-03,  8.7081771e-03,  6.9199838e-03,  8.0417292e-03,\n",
       "       -9.8291347e-03,  4.2979456e-03, -5.0249998e-03,  3.5081219e-03,\n",
       "        6.0540745e-03,  4.3926551e-03,  7.5156232e-03,  1.4986189e-03,\n",
       "       -1.2655356e-03,  5.7731434e-03, -5.6358813e-03,  4.1851996e-05,\n",
       "        9.4535947e-03, -5.4729180e-03,  3.8126495e-03, -8.1199659e-03],\n",
       "      dtype=float32)"
      ]
     },
     "execution_count": 22,
     "metadata": {},
     "output_type": "execute_result"
    }
   ],
   "source": [
    "vector"
   ]
  },
  {
   "cell_type": "code",
   "execution_count": 23,
   "id": "44291cba",
   "metadata": {},
   "outputs": [
    {
     "data": {
      "text/plain": [
       "[('joy', 0.26872122287750244),\n",
       " ('theriyala', 0.20913030207157135),\n",
       " ('avalo', 0.1541757881641388),\n",
       " ('ellundten', 0.1433655321598053),\n",
       " ('sudden', 0.13014192879199982),\n",
       " ('maari', 0.12857776880264282),\n",
       " ('chicken', 0.12583337724208832),\n",
       " ('avalodu', 0.11862559616565704),\n",
       " ('advice', 0.11370211094617844),\n",
       " ('dauind', 0.11051888018846512)]"
      ]
     },
     "execution_count": 23,
     "metadata": {},
     "output_type": "execute_result"
    }
   ],
   "source": [
    "similar"
   ]
  },
  {
   "cell_type": "code",
   "execution_count": null,
   "id": "69fd7b01",
   "metadata": {},
   "outputs": [],
   "source": []
  },
  {
   "cell_type": "code",
   "execution_count": null,
   "id": "13d7b3af",
   "metadata": {},
   "outputs": [],
   "source": []
  }
 ],
 "metadata": {
  "kernelspec": {
   "display_name": "Python 3 (ipykernel)",
   "language": "python",
   "name": "python3"
  },
  "language_info": {
   "codemirror_mode": {
    "name": "ipython",
    "version": 3
   },
   "file_extension": ".py",
   "mimetype": "text/x-python",
   "name": "python",
   "nbconvert_exporter": "python",
   "pygments_lexer": "ipython3",
   "version": "3.9.7"
  }
 },
 "nbformat": 4,
 "nbformat_minor": 5
}
